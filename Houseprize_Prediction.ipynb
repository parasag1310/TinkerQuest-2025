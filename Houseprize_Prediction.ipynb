{
  "cells": [
    {
      "cell_type": "markdown",
      "id": "8c915973-4e3d-4e05-ab90-0d49b5f1a1e2",
      "metadata": {
        "id": "8c915973-4e3d-4e05-ab90-0d49b5f1a1e2"
      },
      "source": [
        "# Linear Regression Model To Predict Housing Prices\n"
      ]
    },
    {
      "cell_type": "code",
      "execution_count": 57,
      "id": "6577b089-3e81-4792-beaf-9579f5c011a4",
      "metadata": {
        "id": "6577b089-3e81-4792-beaf-9579f5c011a4"
      },
      "outputs": [],
      "source": [
        "import pandas as pd\n",
        "\n",
        "#Pandas is a Python library used for data manipulation, analysis,and preprocessing.\n",
        "#Key Benefits:\n",
        "#1.Easy Data Handling: Read/write CSV, Excel, SQL, JSON.\n",
        "#2.Efficient Processing: Fast operations on large datasets.\n",
        "#3.Data Cleaning: Handle missing values, duplicates.\n",
        "#4.Flexible Transformation: Filtering, grouping, merging, and reshaping.\n",
        "#5. Integration: Works well with NumPy, Matplotlib, and Scikit-learn for ML.\n"
      ]
    },
    {
      "cell_type": "code",
      "execution_count": 58,
      "id": "4a1b16e1-61c9-4d65-965b-27517169acca",
      "metadata": {
        "colab": {
          "base_uri": "https://localhost:8080/"
        },
        "id": "4a1b16e1-61c9-4d65-965b-27517169acca",
        "outputId": "d84db0e1-b745-4981-93d7-ad9a13896515"
      },
      "outputs": [
        {
          "output_type": "stream",
          "name": "stdout",
          "text": [
            "Addition: [5 7 9]\n",
            "substration: [-3 -3 -3]\n",
            "multiplication: [ 4 10 18]\n",
            "division: [0.25 0.4  0.5 ]\n"
          ]
        }
      ],
      "source": [
        "import numpy as np\n",
        "#NumPy(Numerical Python) is a fundamental library for Python numerical computing.\n",
        "#Features of Numpy:\n",
        "#1. N-Dimensional Arrays\n",
        "#2. Arrays with High Performance: Arrays are stored in contiguous memory locations, enabling faster computations than Python lists\n",
        "\n",
        "\n",
        "# Let's consider one example for Basic Numpy operation\n",
        "import numpy as np\n",
        "\n",
        "x = np.array([1, 2, 3])\n",
        "y = np.array([4, 5, 6])\n",
        "\n",
        "# Addition\n",
        "add = x + y\n",
        "print(\"Addition:\",add)\n",
        "\n",
        "# Subtraction\n",
        "subtract = x - y\n",
        "print(\"substration:\",subtract)\n",
        "\n",
        "# Multiplication\n",
        "multiply = x * y\n",
        "print(\"multiplication:\",multiply)\n",
        "\n",
        "# Division\n",
        "divide = x / y\n",
        "print(\"division:\", divide)\n"
      ]
    },
    {
      "cell_type": "code",
      "execution_count": 59,
      "id": "b120bc7a-add3-42d8-8ecc-18eb6beee719",
      "metadata": {
        "colab": {
          "base_uri": "https://localhost:8080/"
        },
        "id": "b120bc7a-add3-42d8-8ecc-18eb6beee719",
        "outputId": "d4e8f064-cb53-44b4-e95e-a6b12fbc7787"
      },
      "outputs": [
        {
          "output_type": "stream",
          "name": "stdout",
          "text": [
            "Pandas Series:  Series([], dtype: object)\n",
            "Pandas Series:\n",
            " 0    g\n",
            "1    e\n",
            "2    e\n",
            "3    k\n",
            "4    s\n",
            "dtype: object\n",
            "Empty DataFrame\n",
            "Columns: []\n",
            "Index: []\n",
            "        0\n",
            "0   Geeks\n",
            "1     For\n",
            "2   Geeks\n",
            "3      is\n",
            "4  portal\n",
            "5     for\n",
            "6   Geeks\n"
          ]
        }
      ],
      "source": [
        "#Pandas provides powerful data structures like DataFrame (tabular data) and Series (1D array).\n",
        "\n",
        "#pandas Series\n",
        "# --- Pandas Series can be created from lists, dictionaries, scalar values, etc.\n",
        "import pandas as pd\n",
        "import numpy as np\n",
        "# Creating empty series\n",
        "ser = pd.Series()\n",
        "print(\"Pandas Series: \", ser)\n",
        "\n",
        "# simple array\n",
        "data = np.array(['g', 'e', 'e', 'k', 's'])\n",
        "\n",
        "ser = pd.Series(data)\n",
        "print(\"Pandas Series:\\n\", ser)\n",
        "\n",
        "\n",
        "\n",
        "#Dataframe\n",
        "# Creating a DataFrame Using the Pandas Library\n",
        "import pandas as pd\n",
        "# Calling DataFrame constructor\n",
        "df = pd.DataFrame()\n",
        "print(df)\n",
        "# list of strings\n",
        "lst = ['Geeks', 'For', 'Geeks', 'is', 'portal', 'for', 'Geeks']\n",
        "# Calling DataFrame constructor on list\n",
        "df = pd.DataFrame(lst)\n",
        "print(df)"
      ]
    },
    {
      "cell_type": "code",
      "execution_count": 60,
      "id": "140edc64-0861-4094-aa14-523727684e2d",
      "metadata": {
        "id": "140edc64-0861-4094-aa14-523727684e2d"
      },
      "outputs": [],
      "source": [
        "import statsmodels.api as sm  # Used for performing linear regression (OLS- ordinary least square)\n"
      ]
    },
    {
      "cell_type": "code",
      "execution_count": 61,
      "id": "39aa65c9-45ab-48c1-b703-026ffbfd254a",
      "metadata": {
        "id": "39aa65c9-45ab-48c1-b703-026ffbfd254a"
      },
      "outputs": [],
      "source": [
        "from sklearn.preprocessing import LabelBinarizer\n",
        "\n",
        "\n",
        "# Converts binary categorical values (Yes/No, Male/Female) into 0 and 1.\n"
      ]
    },
    {
      "cell_type": "code",
      "execution_count": 62,
      "id": "e39ab663-394c-42a7-a31d-022bc4f66d6b",
      "metadata": {
        "id": "e39ab663-394c-42a7-a31d-022bc4f66d6b"
      },
      "outputs": [],
      "source": [
        "from sklearn.model_selection import train_test_split\n",
        "\n",
        "# Splits dataset into training and testing sets to avoid overfitting.\n"
      ]
    },
    {
      "cell_type": "code",
      "execution_count": 63,
      "id": "d2e8b13e-4fab-4f45-b834-0050a24735ef",
      "metadata": {
        "id": "d2e8b13e-4fab-4f45-b834-0050a24735ef"
      },
      "outputs": [],
      "source": [
        "from sklearn.metrics import r2_score, mean_absolute_error, mean_squared_error\n",
        "\n",
        "#Evaluation Metrics\n",
        "#R² Score → Measures how well the model explains variance (1 = perfect, 0 = random).\n",
        "#Mean Absolute Error → Measures average absolute difference between predicted & actual values.\n",
        "#Mean Squared Error → Penalizes large errors more than MAE (squared differences)."
      ]
    },
    {
      "cell_type": "markdown",
      "source": [],
      "metadata": {
        "id": "gbkELX91fSYZ"
      },
      "id": "gbkELX91fSYZ"
    },
    {
      "cell_type": "code",
      "source": [
        "#step-1 upload dataset"
      ],
      "metadata": {
        "id": "vfitZ3K7fVfa"
      },
      "id": "vfitZ3K7fVfa",
      "execution_count": 64,
      "outputs": []
    },
    {
      "cell_type": "code",
      "execution_count": 65,
      "id": "a9987138-36a6-41d6-87b7-9b11f293adc1",
      "metadata": {
        "colab": {
          "base_uri": "https://localhost:8080/",
          "height": 591
        },
        "id": "a9987138-36a6-41d6-87b7-9b11f293adc1",
        "outputId": "da087bd5-aa3c-48b3-aa51-cf4354432ea5"
      },
      "outputs": [
        {
          "output_type": "stream",
          "name": "stdout",
          "text": [
            "<class 'pandas.core.frame.DataFrame'>\n",
            "RangeIndex: 546 entries, 0 to 545\n",
            "Data columns (total 12 columns):\n",
            " #   Column    Non-Null Count  Dtype  \n",
            "---  ------    --------------  -----  \n",
            " 0   price     546 non-null    float64\n",
            " 1   lotsize   546 non-null    int64  \n",
            " 2   bedrooms  546 non-null    int64  \n",
            " 3   bathrms   546 non-null    int64  \n",
            " 4   stories   546 non-null    object \n",
            " 5   driveway  546 non-null    object \n",
            " 6   recroom   546 non-null    object \n",
            " 7   fullbase  546 non-null    object \n",
            " 8   gashw     546 non-null    object \n",
            " 9   airco     546 non-null    object \n",
            " 10  garagepl  546 non-null    int64  \n",
            " 11  prefarea  546 non-null    object \n",
            "dtypes: float64(1), int64(4), object(7)\n",
            "memory usage: 51.3+ KB\n",
            "None\n"
          ]
        },
        {
          "output_type": "execute_result",
          "data": {
            "text/plain": [
              "     price  lotsize  bedrooms  bathrms stories driveway recroom fullbase  \\\n",
              "0  42000.0     5850         3        1     two      yes      no      yes   \n",
              "1  38500.0     4000         2        1     one      yes      no       no   \n",
              "2  49500.0     3060         3        1     one      yes      no       no   \n",
              "3  60500.0     6650         3        1     two      yes     yes       no   \n",
              "4  61000.0     6360         2        1     one      yes      no       no   \n",
              "\n",
              "  gashw airco  garagepl prefarea  \n",
              "0    no    no         1       no  \n",
              "1    no    no         0       no  \n",
              "2    no    no         0       no  \n",
              "3    no    no         0       no  \n",
              "4    no    no         0       no  "
            ],
            "text/html": [
              "\n",
              "  <div id=\"df-1745f927-5978-4f69-ab01-2d0d1dd72d45\" class=\"colab-df-container\">\n",
              "    <div>\n",
              "<style scoped>\n",
              "    .dataframe tbody tr th:only-of-type {\n",
              "        vertical-align: middle;\n",
              "    }\n",
              "\n",
              "    .dataframe tbody tr th {\n",
              "        vertical-align: top;\n",
              "    }\n",
              "\n",
              "    .dataframe thead th {\n",
              "        text-align: right;\n",
              "    }\n",
              "</style>\n",
              "<table border=\"1\" class=\"dataframe\">\n",
              "  <thead>\n",
              "    <tr style=\"text-align: right;\">\n",
              "      <th></th>\n",
              "      <th>price</th>\n",
              "      <th>lotsize</th>\n",
              "      <th>bedrooms</th>\n",
              "      <th>bathrms</th>\n",
              "      <th>stories</th>\n",
              "      <th>driveway</th>\n",
              "      <th>recroom</th>\n",
              "      <th>fullbase</th>\n",
              "      <th>gashw</th>\n",
              "      <th>airco</th>\n",
              "      <th>garagepl</th>\n",
              "      <th>prefarea</th>\n",
              "    </tr>\n",
              "  </thead>\n",
              "  <tbody>\n",
              "    <tr>\n",
              "      <th>0</th>\n",
              "      <td>42000.0</td>\n",
              "      <td>5850</td>\n",
              "      <td>3</td>\n",
              "      <td>1</td>\n",
              "      <td>two</td>\n",
              "      <td>yes</td>\n",
              "      <td>no</td>\n",
              "      <td>yes</td>\n",
              "      <td>no</td>\n",
              "      <td>no</td>\n",
              "      <td>1</td>\n",
              "      <td>no</td>\n",
              "    </tr>\n",
              "    <tr>\n",
              "      <th>1</th>\n",
              "      <td>38500.0</td>\n",
              "      <td>4000</td>\n",
              "      <td>2</td>\n",
              "      <td>1</td>\n",
              "      <td>one</td>\n",
              "      <td>yes</td>\n",
              "      <td>no</td>\n",
              "      <td>no</td>\n",
              "      <td>no</td>\n",
              "      <td>no</td>\n",
              "      <td>0</td>\n",
              "      <td>no</td>\n",
              "    </tr>\n",
              "    <tr>\n",
              "      <th>2</th>\n",
              "      <td>49500.0</td>\n",
              "      <td>3060</td>\n",
              "      <td>3</td>\n",
              "      <td>1</td>\n",
              "      <td>one</td>\n",
              "      <td>yes</td>\n",
              "      <td>no</td>\n",
              "      <td>no</td>\n",
              "      <td>no</td>\n",
              "      <td>no</td>\n",
              "      <td>0</td>\n",
              "      <td>no</td>\n",
              "    </tr>\n",
              "    <tr>\n",
              "      <th>3</th>\n",
              "      <td>60500.0</td>\n",
              "      <td>6650</td>\n",
              "      <td>3</td>\n",
              "      <td>1</td>\n",
              "      <td>two</td>\n",
              "      <td>yes</td>\n",
              "      <td>yes</td>\n",
              "      <td>no</td>\n",
              "      <td>no</td>\n",
              "      <td>no</td>\n",
              "      <td>0</td>\n",
              "      <td>no</td>\n",
              "    </tr>\n",
              "    <tr>\n",
              "      <th>4</th>\n",
              "      <td>61000.0</td>\n",
              "      <td>6360</td>\n",
              "      <td>2</td>\n",
              "      <td>1</td>\n",
              "      <td>one</td>\n",
              "      <td>yes</td>\n",
              "      <td>no</td>\n",
              "      <td>no</td>\n",
              "      <td>no</td>\n",
              "      <td>no</td>\n",
              "      <td>0</td>\n",
              "      <td>no</td>\n",
              "    </tr>\n",
              "  </tbody>\n",
              "</table>\n",
              "</div>\n",
              "    <div class=\"colab-df-buttons\">\n",
              "\n",
              "  <div class=\"colab-df-container\">\n",
              "    <button class=\"colab-df-convert\" onclick=\"convertToInteractive('df-1745f927-5978-4f69-ab01-2d0d1dd72d45')\"\n",
              "            title=\"Convert this dataframe to an interactive table.\"\n",
              "            style=\"display:none;\">\n",
              "\n",
              "  <svg xmlns=\"http://www.w3.org/2000/svg\" height=\"24px\" viewBox=\"0 -960 960 960\">\n",
              "    <path d=\"M120-120v-720h720v720H120Zm60-500h600v-160H180v160Zm220 220h160v-160H400v160Zm0 220h160v-160H400v160ZM180-400h160v-160H180v160Zm440 0h160v-160H620v160ZM180-180h160v-160H180v160Zm440 0h160v-160H620v160Z\"/>\n",
              "  </svg>\n",
              "    </button>\n",
              "\n",
              "  <style>\n",
              "    .colab-df-container {\n",
              "      display:flex;\n",
              "      gap: 12px;\n",
              "    }\n",
              "\n",
              "    .colab-df-convert {\n",
              "      background-color: #E8F0FE;\n",
              "      border: none;\n",
              "      border-radius: 50%;\n",
              "      cursor: pointer;\n",
              "      display: none;\n",
              "      fill: #1967D2;\n",
              "      height: 32px;\n",
              "      padding: 0 0 0 0;\n",
              "      width: 32px;\n",
              "    }\n",
              "\n",
              "    .colab-df-convert:hover {\n",
              "      background-color: #E2EBFA;\n",
              "      box-shadow: 0px 1px 2px rgba(60, 64, 67, 0.3), 0px 1px 3px 1px rgba(60, 64, 67, 0.15);\n",
              "      fill: #174EA6;\n",
              "    }\n",
              "\n",
              "    .colab-df-buttons div {\n",
              "      margin-bottom: 4px;\n",
              "    }\n",
              "\n",
              "    [theme=dark] .colab-df-convert {\n",
              "      background-color: #3B4455;\n",
              "      fill: #D2E3FC;\n",
              "    }\n",
              "\n",
              "    [theme=dark] .colab-df-convert:hover {\n",
              "      background-color: #434B5C;\n",
              "      box-shadow: 0px 1px 3px 1px rgba(0, 0, 0, 0.15);\n",
              "      filter: drop-shadow(0px 1px 2px rgba(0, 0, 0, 0.3));\n",
              "      fill: #FFFFFF;\n",
              "    }\n",
              "  </style>\n",
              "\n",
              "    <script>\n",
              "      const buttonEl =\n",
              "        document.querySelector('#df-1745f927-5978-4f69-ab01-2d0d1dd72d45 button.colab-df-convert');\n",
              "      buttonEl.style.display =\n",
              "        google.colab.kernel.accessAllowed ? 'block' : 'none';\n",
              "\n",
              "      async function convertToInteractive(key) {\n",
              "        const element = document.querySelector('#df-1745f927-5978-4f69-ab01-2d0d1dd72d45');\n",
              "        const dataTable =\n",
              "          await google.colab.kernel.invokeFunction('convertToInteractive',\n",
              "                                                    [key], {});\n",
              "        if (!dataTable) return;\n",
              "\n",
              "        const docLinkHtml = 'Like what you see? Visit the ' +\n",
              "          '<a target=\"_blank\" href=https://colab.research.google.com/notebooks/data_table.ipynb>data table notebook</a>'\n",
              "          + ' to learn more about interactive tables.';\n",
              "        element.innerHTML = '';\n",
              "        dataTable['output_type'] = 'display_data';\n",
              "        await google.colab.output.renderOutput(dataTable, element);\n",
              "        const docLink = document.createElement('div');\n",
              "        docLink.innerHTML = docLinkHtml;\n",
              "        element.appendChild(docLink);\n",
              "      }\n",
              "    </script>\n",
              "  </div>\n",
              "\n",
              "\n",
              "<div id=\"df-b4aac6f5-df77-4731-a227-b27df9c646d7\">\n",
              "  <button class=\"colab-df-quickchart\" onclick=\"quickchart('df-b4aac6f5-df77-4731-a227-b27df9c646d7')\"\n",
              "            title=\"Suggest charts\"\n",
              "            style=\"display:none;\">\n",
              "\n",
              "<svg xmlns=\"http://www.w3.org/2000/svg\" height=\"24px\"viewBox=\"0 0 24 24\"\n",
              "     width=\"24px\">\n",
              "    <g>\n",
              "        <path d=\"M19 3H5c-1.1 0-2 .9-2 2v14c0 1.1.9 2 2 2h14c1.1 0 2-.9 2-2V5c0-1.1-.9-2-2-2zM9 17H7v-7h2v7zm4 0h-2V7h2v10zm4 0h-2v-4h2v4z\"/>\n",
              "    </g>\n",
              "</svg>\n",
              "  </button>\n",
              "\n",
              "<style>\n",
              "  .colab-df-quickchart {\n",
              "      --bg-color: #E8F0FE;\n",
              "      --fill-color: #1967D2;\n",
              "      --hover-bg-color: #E2EBFA;\n",
              "      --hover-fill-color: #174EA6;\n",
              "      --disabled-fill-color: #AAA;\n",
              "      --disabled-bg-color: #DDD;\n",
              "  }\n",
              "\n",
              "  [theme=dark] .colab-df-quickchart {\n",
              "      --bg-color: #3B4455;\n",
              "      --fill-color: #D2E3FC;\n",
              "      --hover-bg-color: #434B5C;\n",
              "      --hover-fill-color: #FFFFFF;\n",
              "      --disabled-bg-color: #3B4455;\n",
              "      --disabled-fill-color: #666;\n",
              "  }\n",
              "\n",
              "  .colab-df-quickchart {\n",
              "    background-color: var(--bg-color);\n",
              "    border: none;\n",
              "    border-radius: 50%;\n",
              "    cursor: pointer;\n",
              "    display: none;\n",
              "    fill: var(--fill-color);\n",
              "    height: 32px;\n",
              "    padding: 0;\n",
              "    width: 32px;\n",
              "  }\n",
              "\n",
              "  .colab-df-quickchart:hover {\n",
              "    background-color: var(--hover-bg-color);\n",
              "    box-shadow: 0 1px 2px rgba(60, 64, 67, 0.3), 0 1px 3px 1px rgba(60, 64, 67, 0.15);\n",
              "    fill: var(--button-hover-fill-color);\n",
              "  }\n",
              "\n",
              "  .colab-df-quickchart-complete:disabled,\n",
              "  .colab-df-quickchart-complete:disabled:hover {\n",
              "    background-color: var(--disabled-bg-color);\n",
              "    fill: var(--disabled-fill-color);\n",
              "    box-shadow: none;\n",
              "  }\n",
              "\n",
              "  .colab-df-spinner {\n",
              "    border: 2px solid var(--fill-color);\n",
              "    border-color: transparent;\n",
              "    border-bottom-color: var(--fill-color);\n",
              "    animation:\n",
              "      spin 1s steps(1) infinite;\n",
              "  }\n",
              "\n",
              "  @keyframes spin {\n",
              "    0% {\n",
              "      border-color: transparent;\n",
              "      border-bottom-color: var(--fill-color);\n",
              "      border-left-color: var(--fill-color);\n",
              "    }\n",
              "    20% {\n",
              "      border-color: transparent;\n",
              "      border-left-color: var(--fill-color);\n",
              "      border-top-color: var(--fill-color);\n",
              "    }\n",
              "    30% {\n",
              "      border-color: transparent;\n",
              "      border-left-color: var(--fill-color);\n",
              "      border-top-color: var(--fill-color);\n",
              "      border-right-color: var(--fill-color);\n",
              "    }\n",
              "    40% {\n",
              "      border-color: transparent;\n",
              "      border-right-color: var(--fill-color);\n",
              "      border-top-color: var(--fill-color);\n",
              "    }\n",
              "    60% {\n",
              "      border-color: transparent;\n",
              "      border-right-color: var(--fill-color);\n",
              "    }\n",
              "    80% {\n",
              "      border-color: transparent;\n",
              "      border-right-color: var(--fill-color);\n",
              "      border-bottom-color: var(--fill-color);\n",
              "    }\n",
              "    90% {\n",
              "      border-color: transparent;\n",
              "      border-bottom-color: var(--fill-color);\n",
              "    }\n",
              "  }\n",
              "</style>\n",
              "\n",
              "  <script>\n",
              "    async function quickchart(key) {\n",
              "      const quickchartButtonEl =\n",
              "        document.querySelector('#' + key + ' button');\n",
              "      quickchartButtonEl.disabled = true;  // To prevent multiple clicks.\n",
              "      quickchartButtonEl.classList.add('colab-df-spinner');\n",
              "      try {\n",
              "        const charts = await google.colab.kernel.invokeFunction(\n",
              "            'suggestCharts', [key], {});\n",
              "      } catch (error) {\n",
              "        console.error('Error during call to suggestCharts:', error);\n",
              "      }\n",
              "      quickchartButtonEl.classList.remove('colab-df-spinner');\n",
              "      quickchartButtonEl.classList.add('colab-df-quickchart-complete');\n",
              "    }\n",
              "    (() => {\n",
              "      let quickchartButtonEl =\n",
              "        document.querySelector('#df-b4aac6f5-df77-4731-a227-b27df9c646d7 button');\n",
              "      quickchartButtonEl.style.display =\n",
              "        google.colab.kernel.accessAllowed ? 'block' : 'none';\n",
              "    })();\n",
              "  </script>\n",
              "</div>\n",
              "\n",
              "    </div>\n",
              "  </div>\n"
            ],
            "application/vnd.google.colaboratory.intrinsic+json": {
              "type": "dataframe",
              "summary": "{\n  \"name\": \"#3\",\n  \"rows\": 5,\n  \"fields\": [\n    {\n      \"column\": \"price\",\n      \"properties\": {\n        \"dtype\": \"number\",\n        \"std\": 10335.618026997709,\n        \"min\": 38500.0,\n        \"max\": 61000.0,\n        \"num_unique_values\": 5,\n        \"samples\": [\n          38500.0,\n          61000.0,\n          49500.0\n        ],\n        \"semantic_type\": \"\",\n        \"description\": \"\"\n      }\n    },\n    {\n      \"column\": \"lotsize\",\n      \"properties\": {\n        \"dtype\": \"number\",\n        \"std\": 1572,\n        \"min\": 3060,\n        \"max\": 6650,\n        \"num_unique_values\": 5,\n        \"samples\": [\n          4000,\n          6360,\n          3060\n        ],\n        \"semantic_type\": \"\",\n        \"description\": \"\"\n      }\n    },\n    {\n      \"column\": \"bedrooms\",\n      \"properties\": {\n        \"dtype\": \"number\",\n        \"std\": 0,\n        \"min\": 2,\n        \"max\": 3,\n        \"num_unique_values\": 2,\n        \"samples\": [\n          2,\n          3\n        ],\n        \"semantic_type\": \"\",\n        \"description\": \"\"\n      }\n    },\n    {\n      \"column\": \"bathrms\",\n      \"properties\": {\n        \"dtype\": \"number\",\n        \"std\": 0,\n        \"min\": 1,\n        \"max\": 1,\n        \"num_unique_values\": 1,\n        \"samples\": [\n          1\n        ],\n        \"semantic_type\": \"\",\n        \"description\": \"\"\n      }\n    },\n    {\n      \"column\": \"stories\",\n      \"properties\": {\n        \"dtype\": \"category\",\n        \"num_unique_values\": 2,\n        \"samples\": [\n          \"one\"\n        ],\n        \"semantic_type\": \"\",\n        \"description\": \"\"\n      }\n    },\n    {\n      \"column\": \"driveway\",\n      \"properties\": {\n        \"dtype\": \"category\",\n        \"num_unique_values\": 1,\n        \"samples\": [\n          \"yes\"\n        ],\n        \"semantic_type\": \"\",\n        \"description\": \"\"\n      }\n    },\n    {\n      \"column\": \"recroom\",\n      \"properties\": {\n        \"dtype\": \"category\",\n        \"num_unique_values\": 2,\n        \"samples\": [\n          \"yes\"\n        ],\n        \"semantic_type\": \"\",\n        \"description\": \"\"\n      }\n    },\n    {\n      \"column\": \"fullbase\",\n      \"properties\": {\n        \"dtype\": \"category\",\n        \"num_unique_values\": 2,\n        \"samples\": [\n          \"no\"\n        ],\n        \"semantic_type\": \"\",\n        \"description\": \"\"\n      }\n    },\n    {\n      \"column\": \"gashw\",\n      \"properties\": {\n        \"dtype\": \"category\",\n        \"num_unique_values\": 1,\n        \"samples\": [\n          \"no\"\n        ],\n        \"semantic_type\": \"\",\n        \"description\": \"\"\n      }\n    },\n    {\n      \"column\": \"airco\",\n      \"properties\": {\n        \"dtype\": \"category\",\n        \"num_unique_values\": 1,\n        \"samples\": [\n          \"no\"\n        ],\n        \"semantic_type\": \"\",\n        \"description\": \"\"\n      }\n    },\n    {\n      \"column\": \"garagepl\",\n      \"properties\": {\n        \"dtype\": \"number\",\n        \"std\": 0,\n        \"min\": 0,\n        \"max\": 1,\n        \"num_unique_values\": 2,\n        \"samples\": [\n          0\n        ],\n        \"semantic_type\": \"\",\n        \"description\": \"\"\n      }\n    },\n    {\n      \"column\": \"prefarea\",\n      \"properties\": {\n        \"dtype\": \"category\",\n        \"num_unique_values\": 1,\n        \"samples\": [\n          \"no\"\n        ],\n        \"semantic_type\": \"\",\n        \"description\": \"\"\n      }\n    }\n  ]\n}"
            }
          },
          "metadata": {},
          "execution_count": 65
        }
      ],
      "source": [
        "# we read the dataset (Housing_Modified.csv) into a pandas DataFrame.\n",
        "\n",
        "df = pd.read_csv(\"/content/Housing_Modified.xls\")  # Read CSV file into a DataFrame\n",
        "\n",
        "print(df.info())  # Shows dataset structure: column names, data types, missing values\n",
        "df.head()  # Displays the first 5 rows\n",
        "\n",
        "#Understanding df.info()\n",
        "#This function provides:\n",
        "#1. Column names\n",
        "#2. Data types (int, float, object)\n",
        "#3. Missing values (if any)\n",
        "\n"
      ]
    },
    {
      "cell_type": "code",
      "execution_count": 66,
      "id": "00c526c1-a2a4-47c1-ba21-264e98543f3e",
      "metadata": {
        "colab": {
          "base_uri": "https://localhost:8080/"
        },
        "id": "00c526c1-a2a4-47c1-ba21-264e98543f3e",
        "outputId": "df369436-99e5-46bc-eba8-c255fcfc5329"
      },
      "outputs": [
        {
          "output_type": "execute_result",
          "data": {
            "text/plain": [
              "(546, 12)"
            ]
          },
          "metadata": {},
          "execution_count": 66
        }
      ],
      "source": [
        "df.shape"
      ]
    },
    {
      "cell_type": "code",
      "source": [
        "# Step 2: Data Cleaning and Conversion\n",
        "# Convert categorical columns ('yes'/'no') into binary values (1/0)\n",
        "binary_cols = ['driveway', 'recroom', 'fullbase', 'gashw', 'airco', 'prefarea']\n",
        "for col in binary_cols:\n",
        "    lb = LabelBinarizer()\n",
        "    df[col] = lb.fit_transform(df[col])  # 'Yes' -> 1, 'No' -> 0\n",
        "\n",
        "# Convert 'stories' into dummy variables (one-hot encoding)\n",
        "df = pd.get_dummies(df, columns=['stories'], drop_first=True)\n",
        "# drop_first=True avoids dummy variable trap\n"
      ],
      "metadata": {
        "id": "o23OmL9CfpPv"
      },
      "id": "o23OmL9CfpPv",
      "execution_count": 67,
      "outputs": []
    },
    {
      "cell_type": "code",
      "source": [
        "from statsmodels.stats.outliers_influence import variance_inflation_factor\n"
      ],
      "metadata": {
        "id": "P6k6NfJQgCme"
      },
      "id": "P6k6NfJQgCme",
      "execution_count": 68,
      "outputs": []
    },
    {
      "cell_type": "code",
      "source": [
        "# Step 3: Feature Selection - Checking Multicollinearity using VIF\n",
        "# Multicollinearity occurs when independent variables are highly correlated.\n",
        "# High multicollinearity can make it difficult to interpret the model.\n",
        "# Variance Inflation Factor (VIF) is used to identify multicollinear variables.\n",
        "# A VIF value greater than 10 suggests a high correlation with other independent variables.\n",
        "# We remove features with high VIF to improve model performance.\n",
        "\n",
        "X = df.drop(columns=['price'])\n",
        "# Explicitly convert all columns to numeric, replacing non-numeric with NaN\n",
        "X = X.apply(pd.to_numeric, errors='coerce')\n",
        "\n",
        "vif_data = pd.DataFrame()\n",
        "vif_data[\"Feature\"] = X.columns\n",
        "\n",
        "# Drop missing values\n",
        "X = X.fillna(X.mean())  # Remove rows with NaN\n",
        "# OR replace NaN with the column's mean\n",
        "# X = X.fillna(X.mean())\n",
        "# Convert all columns to float type before calculating VIF\n",
        "X = X.astype(float)\n",
        "\n",
        "# Compute VIF after cleaning\n",
        "vif_data[\"VIF\"] = [variance_inflation_factor(X.values, i) for i in range(X.shape[1])]\n",
        "\n",
        "# Display VIF values\n",
        "print(\"Variance Inflation Factor (VIF) Table:\\n\", vif_data)"
      ],
      "metadata": {
        "colab": {
          "base_uri": "https://localhost:8080/"
        },
        "id": "SL7OkLYSfsKw",
        "outputId": "c0d00c5f-f44f-4240-c353-6c85a137c2de"
      },
      "id": "SL7OkLYSfsKw",
      "execution_count": 69,
      "outputs": [
        {
          "output_type": "stream",
          "name": "stdout",
          "text": [
            "Variance Inflation Factor (VIF) Table:\n",
            "           Feature        VIF\n",
            "0         lotsize   8.958098\n",
            "1        bedrooms  18.469879\n",
            "2         bathrms   8.984672\n",
            "3        driveway   7.088579\n",
            "4         recroom   1.477015\n",
            "5        fullbase   2.013320\n",
            "6           gashw   1.103488\n",
            "7           airco   1.756746\n",
            "8        garagepl   1.982649\n",
            "9        prefarea   1.533295\n",
            "10    stories_one   3.965753\n",
            "11  stories_three   1.770040\n",
            "12    stories_two   5.511702\n"
          ]
        }
      ]
    },
    {
      "cell_type": "code",
      "source": [
        "# Step 4: Remove features with high multicollinearity (VIF > 10)\n",
        "if vif_data.loc[vif_data[\"VIF\"] > 10, \"Feature\"].any():\n",
        "    df = df.drop(columns=['bedrooms'])  # Dropping 'bedrooms' due to high multicollinearity"
      ],
      "metadata": {
        "id": "GLWoYPRbfv4n"
      },
      "id": "GLWoYPRbfv4n",
      "execution_count": 70,
      "outputs": []
    },
    {
      "cell_type": "code",
      "source": [
        "# Step 5: Splitting the Data into Training and Testing sets\n",
        "X = df.drop(columns=['price'])  # Independent variables\n",
        "y = df['price']  # Target variable (house price)\n",
        "X_train, X_test, y_train, y_test = train_test_split(X, y, test_size=0.2, random_state=42)\n",
        "# 80% training, 20% testing"
      ],
      "metadata": {
        "id": "J71Bky7rfzJb"
      },
      "id": "J71Bky7rfzJb",
      "execution_count": 71,
      "outputs": []
    },
    {
      "cell_type": "code",
      "source": [
        "# Step 6: Building the Regression Model using OLS (Ordinary Least Squares)\n",
        "X_train = sm.add_constant(X_train)  # Adding a constant term for the regression model\n",
        "X_test = sm.add_constant(X_test)  # Adding constant term to test data\n",
        "\n",
        "# Convert all columns in X_train and X_test to numeric, replacing non-numeric with NaN\n",
        "X_train = X_train.apply(pd.to_numeric, errors='coerce')\n",
        "X_test = X_test.apply(pd.to_numeric, errors='coerce')\n",
        "\n",
        "# Replace NaN values with the column mean\n",
        "X_train = X_train.fillna(X_train.mean())\n",
        "X_test = X_test.fillna(X_test.mean())\n",
        "\n",
        "# ----> Explicitly convert all columns to float\n",
        "for col in X_train.columns:\n",
        "    X_train[col] = X_train[col].astype(float)\n",
        "for col in X_test.columns:\n",
        "    X_test[col] = X_test[col].astype(float)\n",
        "\n",
        "# Fit the model after data type conversion\n",
        "lm = sm.OLS(y_train, X_train).fit()  # Train the model"
      ],
      "metadata": {
        "id": "gRid6vBvf3pM"
      },
      "id": "gRid6vBvf3pM",
      "execution_count": 72,
      "outputs": []
    },
    {
      "cell_type": "code",
      "source": [
        "# Step 7: Model Evaluation\n",
        "y_pred = lm.predict(X_test)  # Predict house prices for test data\n",
        "r2 = r2_score(y_test, y_pred)  # R² Score (Goodness of Fit)\n",
        "mae = mean_absolute_error(y_test, y_pred)  # Mean Absolute Error\n",
        "mse = mean_squared_error(y_test, y_pred)  # Mean Squared Error\n",
        "\n",
        "# Display model performance\n",
        "print(\"\\nModel Performance:\")\n",
        "print(f\"R² Score: {r2:.4f}\")\n",
        "print(f\"Mean Absolute Error: {mae:.2f}\")\n",
        "print(f\"Mean Squared Error: {mse:.2f}\")"
      ],
      "metadata": {
        "colab": {
          "base_uri": "https://localhost:8080/"
        },
        "id": "S3YXUZt2f4Ro",
        "outputId": "d08a01a3-fe2b-49a7-a1c4-6c4580e5d611"
      },
      "id": "S3YXUZt2f4Ro",
      "execution_count": 73,
      "outputs": [
        {
          "output_type": "stream",
          "name": "stdout",
          "text": [
            "\n",
            "Model Performance:\n",
            "R² Score: 0.6062\n",
            "Mean Absolute Error: 11548.17\n",
            "Mean Squared Error: 263075151.21\n"
          ]
        }
      ]
    },
    {
      "cell_type": "code",
      "source": [
        "# Step 8: Predicting House Price using User Input\n",
        "def predict_price():\n",
        "    # Take user input for house features\n",
        "    lotsize = int(input(\"Enter Lot Size: \"))\n",
        "    bathrms = int(input(\"Enter Bathrooms: \"))\n",
        "    driveway = int(input(\"Enter Driveway (1 for Yes, 0 for No): \"))\n",
        "    recroom = int(input(\"Enter Rec Room (1 for Yes, 0 for No): \"))\n",
        "    fullbase = int(input(\"Enter Full Basement (1 for Yes, 0 for No): \"))\n",
        "    gashw = int(input(\"Enter Gas Hot Water (1 for Yes, 0 for No): \"))\n",
        "    airco = int(input(\"Enter Air Conditioning (1 for Yes, 0 for No): \"))\n",
        "    garagepl = int(input(\"Enter Garage Places: \"))\n",
        "    prefarea = int(input(\"Enter Preferred Area (1 for Yes, 0 for No): \"))\n",
        "    story_one = int(input(\"Story One (1 for Yes, 0 for No): \"))\n",
        "    story_three = int(input(\"Story Three (1 for Yes, 0 for No): \"))\n",
        "    story_two = int(input(\"Story Two (1 for Yes, 0 for No): \"))\n",
        "\n",
        "    # Create a DataFrame for user input\n",
        "    input_data = pd.DataFrame([[1, lotsize, bathrms, driveway, recroom, fullbase, gashw, airco, garagepl,\n",
        "                                prefarea, story_one, story_three, story_two]],\n",
        "                              columns=X_train.columns)\n",
        "\n",
        "    # Predict house price using the trained model\n",
        "    predicted_price = lm.predict(input_data)[0]\n",
        "    print(f\"\\nPredicted House Price: ${predicted_price:.2f}\")\n",
        "\n",
        "# Call function to predict house price\n",
        "predict_price()"
      ],
      "metadata": {
        "colab": {
          "base_uri": "https://localhost:8080/"
        },
        "id": "iw8EN-eyf7hh",
        "outputId": "2cd5ccb5-9971-4307-debb-e10dfd76d19c"
      },
      "id": "iw8EN-eyf7hh",
      "execution_count": 74,
      "outputs": [
        {
          "output_type": "stream",
          "name": "stdout",
          "text": [
            "Enter Lot Size: 100\n",
            "Enter Bathrooms: 4\n",
            "Enter Driveway (1 for Yes, 0 for No): 1\n",
            "Enter Rec Room (1 for Yes, 0 for No): 1\n",
            "Enter Full Basement (1 for Yes, 0 for No): 1\n",
            "Enter Gas Hot Water (1 for Yes, 0 for No): 1\n",
            "Enter Air Conditioning (1 for Yes, 0 for No): 1\n",
            "Enter Garage Places: 1\n",
            "Enter Preferred Area (1 for Yes, 0 for No): 1\n",
            "Story One (1 for Yes, 0 for No): 1\n",
            "Story Three (1 for Yes, 0 for No): 1\n",
            "Story Two (1 for Yes, 0 for No): 1\n",
            "\n",
            "Predicted House Price: $94180.93\n"
          ]
        }
      ]
    }
  ],
  "metadata": {
    "kernelspec": {
      "display_name": "Python 3 (ipykernel)",
      "language": "python",
      "name": "python3"
    },
    "language_info": {
      "codemirror_mode": {
        "name": "ipython",
        "version": 3
      },
      "file_extension": ".py",
      "mimetype": "text/x-python",
      "name": "python",
      "nbconvert_exporter": "python",
      "pygments_lexer": "ipython3",
      "version": "3.12.4"
    },
    "colab": {
      "provenance": []
    }
  },
  "nbformat": 4,
  "nbformat_minor": 5
}